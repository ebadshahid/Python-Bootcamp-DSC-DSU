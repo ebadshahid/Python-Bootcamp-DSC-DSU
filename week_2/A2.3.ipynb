{
 "metadata": {
  "language_info": {
   "codemirror_mode": {
    "name": "ipython",
    "version": 3
   },
   "file_extension": ".py",
   "mimetype": "text/x-python",
   "name": "python",
   "nbconvert_exporter": "python",
   "pygments_lexer": "ipython3",
   "version": "3.7.4-final"
  },
  "orig_nbformat": 2,
  "kernelspec": {
   "name": "python3",
   "display_name": "Python 3",
   "language": "python"
  }
 },
 "nbformat": 4,
 "nbformat_minor": 2,
 "cells": [
  {
   "cell_type": "code",
   "execution_count": 4,
   "metadata": {},
   "outputs": [
    {
     "output_type": "execute_result",
     "data": {
      "text/plain": [
       "b'<!doctype html>\\r\\n<html lang=\"en\">\\r\\n  <head>\\r\\n    <!-- Required meta tags -->\\r\\n    <meta charset=\"utf-8\">\\r\\n    <meta name=\"viewport\" content=\"width=device-width, initial-scale=1, shrink-to-fit=no\">\\r\\n    <link rel=\"icon\" href=\"/favicon.gif\" type=\"image/x-icon\" />\\r\\n  <link href=\"assets/0.08b7e7c88d4b753951a6.css\" rel=\"stylesheet\"></head>\\r\\n  \\r\\n  <body aurelia-app=\"main\">\\r\\n\\r\\n      \\r\\n\\r\\n  <script type=\"text/javascript\" src=\"assets/runtime.08b7e7c88d4b753951a6.bundle.js\"></script><script type=\"text/javascript\" src=\"assets/npm.aurelia-templating-resources.08b7e7c88d4b753951a6.js\"></script><script type=\"text/javascript\" src=\"assets/npm.au-table.08b7e7c88d4b753951a6.js\"></script><script type=\"text/javascript\" src=\"assets/npm.aurelia-google-maps.08b7e7c88d4b753951a6.js\"></script><script type=\"text/javascript\" src=\"assets/npm.aurelia-templating-router.08b7e7c88d4b753951a6.js\"></script><script type=\"text/javascript\" src=\"assets/npm.aurelia-webpack-plugin.08b7e7c88d4b753951a6.js\"></script><script type=\"text/javascript\" src=\"assets/npm.es6-promise-promise.08b7e7c88d4b753951a6.js\"></script><script type=\"text/javascript\" src=\"assets/npm.webpack.08b7e7c88d4b753951a6.js\"></script><script type=\"text/javascript\" src=\"assets/npm.aurelia-binding.08b7e7c88d4b753951a6.js\"></script><script type=\"text/javascript\" src=\"assets/npm.aurelia-bootstrapper.08b7e7c88d4b753951a6.js\"></script><script type=\"text/javascript\" src=\"assets/npm.aurelia-dependency-injection.08b7e7c88d4b753951a6.js\"></script><script type=\"text/javascript\" src=\"assets/npm.aurelia-event-aggregator.08b7e7c88d4b753951a6.js\"></script><script type=\"text/javascript\" src=\"assets/npm.aurelia-fetch-client.08b7e7c88d4b753951a6.js\"></script><script type=\"text/javascript\" src=\"assets/npm.aurelia-framework.08b7e7c88d4b753951a6.js\"></script><script type=\"text/javascript\" src=\"assets/npm.aurelia-history-browser.08b7e7c88d4b753951a6.js\"></script><script type=\"text/javascript\" src=\"assets/npm.aurelia-history.08b7e7c88d4b753951a6.js\"></script><script type=\"text/javascript\" src=\"assets/npm.aurelia-loader-webpack.08b7e7c88d4b753951a6.js\"></script><script type=\"text/javascript\" src=\"assets/npm.aurelia-loader.08b7e7c88d4b753951a6.js\"></script><script type=\"text/javascript\" src=\"assets/npm.aurelia-logging-console.08b7e7c88d4b753951a6.js\"></script><script type=\"text/javascript\" src=\"assets/npm.aurelia-logging.08b7e7c88d4b753951a6.js\"></script><script type=\"text/javascript\" src=\"assets/npm.aurelia-metadata.08b7e7c88d4b753951a6.js\"></script><script type=\"text/javascript\" src=\"assets/npm.aurelia-pal-browser.08b7e7c88d4b753951a6.js\"></script><script type=\"text/javascript\" src=\"assets/npm.aurelia-pal.08b7e7c88d4b753951a6.js\"></script><script type=\"text/javascript\" src=\"assets/npm.aurelia-path.08b7e7c88d4b753951a6.js\"></script><script type=\"text/javascript\" src=\"assets/npm.aurelia-polyfills.08b7e7c88d4b753951a6.js\"></script><script type=\"text/javascript\" src=\"assets/npm.aurelia-route-recognizer.08b7e7c88d4b753951a6.js\"></script><script type=\"text/javascript\" src=\"assets/npm.aurelia-router.08b7e7c88d4b753951a6.js\"></script><script type=\"text/javascript\" src=\"assets/npm.aurelia-task-queue.08b7e7c88d4b753951a6.js\"></script><script type=\"text/javascript\" src=\"assets/npm.aurelia-templating-binding.08b7e7c88d4b753951a6.js\"></script><script type=\"text/javascript\" src=\"assets/npm.aurelia-templating.08b7e7c88d4b753951a6.js\"></script><script type=\"text/javascript\" src=\"assets/npm.email-validator.08b7e7c88d4b753951a6.js\"></script><script type=\"text/javascript\" src=\"assets/npm.jquery-param.08b7e7c88d4b753951a6.js\"></script><script type=\"text/javascript\" src=\"assets/npm.jquery-resizable-dom.08b7e7c88d4b753951a6.js\"></script><script type=\"text/javascript\" src=\"assets/npm.jquery.08b7e7c88d4b753951a6.js\"></script><script type=\"text/javascript\" src=\"assets/npm.polyfill-array-includes.08b7e7c88d4b753951a6.js\"></script><script type=\"text/javascript\" src=\"assets/npm.process.08b7e7c88d4b753951a6.js\"></script><script type=\"text/javascript\" src=\"assets/npm.whatwg-fetch.08b7e7c88d4b753951a6.js\"></script><script type=\"text/javascript\" src=\"assets/app.08b7e7c88d4b753951a6.js\"></script></body>\\r\\n  <script type=\"text/javascript\">\\r\\n     \\r\\n    if(navigator.userAgent.indexOf(\\'MSIE\\')!==-1){\\r\\n      var para = document.createElement(\"h1\");\\r\\n      var node = document.createTextNode(\"Your browser is not supported please upgrade!\");\\r\\n      para.appendChild(node);\\r\\n      document.body.appendChild(para);\\r\\n    }\\r\\n  </script>\\r\\n\\r\\n</html>\\r\\n'"
      ]
     },
     "metadata": {},
     "execution_count": 4
    }
   ],
   "source": [
    "import requests as r\n",
    "link = \"https://directory.ntschools.net/#/schools\"\n",
    "data = r.get(link)\n",
    "data.content"
   ]
  },
  {
   "cell_type": "code",
   "execution_count": 22,
   "metadata": {},
   "outputs": [
    {
     "output_type": "error",
     "ename": "SyntaxError",
     "evalue": "invalid syntax (<ipython-input-22-16ac1edd2cd9>, line 3)",
     "traceback": [
      "\u001b[1;36m  File \u001b[1;32m\"<ipython-input-22-16ac1edd2cd9>\"\u001b[1;36m, line \u001b[1;32m3\u001b[0m\n\u001b[1;33m    exception json.JSONDecodeError(msg, doc, pos)\u001b[0m\n\u001b[1;37m                 ^\u001b[0m\n\u001b[1;31mSyntaxError\u001b[0m\u001b[1;31m:\u001b[0m invalid syntax\n"
     ]
    }
   ],
   "source": [
    "import json"
   ]
  },
  {
   "cell_type": "code",
   "execution_count": null,
   "metadata": {},
   "outputs": [],
   "source": [
    "parsed_data = json.loads(data.content)"
   ]
  },
  {
   "cell_type": "code",
   "execution_count": null,
   "metadata": {},
   "outputs": [],
   "source": []
  }
 ]
}